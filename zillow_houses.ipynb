{
 "cells": [
  {
   "cell_type": "code",
   "execution_count": 42,
   "metadata": {},
   "outputs": [],
   "source": [
    "import requests\n",
    "from bs4 import BeautifulSoup as soup\n",
    "import csv\n",
    "import pandas as pd"
   ]
  },
  {
   "cell_type": "code",
   "execution_count": 43,
   "metadata": {},
   "outputs": [],
   "source": [
    "header = {'user-agent': 'Mozilla/5.0 (Macintosh; Intel Mac OS X 10_15_7) AppleWebKit/537.36 (KHTML, like Gecko) Chrome/116.0.0.0 Safari/537.36',\n",
    "          \n",
    "          'referer': 'https://www.zillow.com/homes/houston_rb/'\n",
    "\n",
    "}"
   ]
  },
  {
   "cell_type": "code",
   "execution_count": 44,
   "metadata": {},
   "outputs": [
    {
     "data": {
      "text/plain": [
       "403"
      ]
     },
     "execution_count": 44,
     "metadata": {},
     "output_type": "execute_result"
    }
   ],
   "source": [
    "url = \"https://www.zillow.com/homes/houston_rb/\"\n",
    "\n",
    "html = requests.get(url=url, headers= header)\n",
    "html.status_code"
   ]
  },
  {
   "cell_type": "code",
   "execution_count": 45,
   "metadata": {},
   "outputs": [],
   "source": [
    "zillow = soup(html.content, 'lxml')\n"
   ]
  },
  {
   "cell_type": "code",
   "execution_count": 34,
   "metadata": {},
   "outputs": [
    {
     "data": {
      "text/plain": [
       "['$283,000',\n",
       " '$1,100,000',\n",
       " '$417,000',\n",
       " '$499,000',\n",
       " '$450,000',\n",
       " '$500,000',\n",
       " '$279,900',\n",
       " '$114,900',\n",
       " '$260,000']"
      ]
     },
     "execution_count": 34,
     "metadata": {},
     "output_type": "execute_result"
    }
   ],
   "source": [
    "price_list = []\n",
    "\n",
    "for price in zillow.find_all('div',{'class':'StyledPropertyCardDataArea-c11n-8-84-3__sc-yipmu-0 fDSTNn'}):\n",
    "    price_list.append(price.text)\n",
    "\n",
    "price_list"
   ]
  },
  {
   "cell_type": "code",
   "execution_count": 31,
   "metadata": {},
   "outputs": [
    {
     "data": {
      "text/plain": [
       "['2343 Weathersfield Trace Cir, Houston, TX 77014',\n",
       " '1823 W Main St UNIT 4, Houston, TX 77098',\n",
       " '4306 Spencer St, Houston, TX 77007',\n",
       " '14815 Waterside View Ct, Houston, TX 77044',\n",
       " '9400 Radio Rd, Houston, TX 77075',\n",
       " '15223 Lakewood Forest Dr, Houston, TX 77070',\n",
       " '5322 Creek Shadows Dr, Humble, TX 77339',\n",
       " '6111 Westover St, Houston, TX 77033',\n",
       " '6315 Lost Timber Ln, Houston, TX 77066']"
      ]
     },
     "execution_count": 31,
     "metadata": {},
     "output_type": "execute_result"
    }
   ],
   "source": [
    "address = []\n",
    "\n",
    "for x in zillow.find_all('address',{'data-test':'property-card-addr'}):\n",
    "    address.append(x.text)\n",
    "    \n",
    "address"
   ]
  },
  {
   "cell_type": "code",
   "execution_count": 40,
   "metadata": {},
   "outputs": [
    {
     "data": {
      "text/html": [
       "<div>\n",
       "<style scoped>\n",
       "    .dataframe tbody tr th:only-of-type {\n",
       "        vertical-align: middle;\n",
       "    }\n",
       "\n",
       "    .dataframe tbody tr th {\n",
       "        vertical-align: top;\n",
       "    }\n",
       "\n",
       "    .dataframe thead th {\n",
       "        text-align: right;\n",
       "    }\n",
       "</style>\n",
       "<table border=\"1\" class=\"dataframe\">\n",
       "  <thead>\n",
       "    <tr style=\"text-align: right;\">\n",
       "      <th></th>\n",
       "      <th>Address</th>\n",
       "      <th>Price</th>\n",
       "    </tr>\n",
       "  </thead>\n",
       "  <tbody>\n",
       "    <tr>\n",
       "      <th>0</th>\n",
       "      <td>2343 Weathersfield Trace Cir, Houston, TX 77014</td>\n",
       "      <td>$283,000</td>\n",
       "    </tr>\n",
       "    <tr>\n",
       "      <th>1</th>\n",
       "      <td>1823 W Main St UNIT 4, Houston, TX 77098</td>\n",
       "      <td>$1,100,000</td>\n",
       "    </tr>\n",
       "    <tr>\n",
       "      <th>2</th>\n",
       "      <td>4306 Spencer St, Houston, TX 77007</td>\n",
       "      <td>$417,000</td>\n",
       "    </tr>\n",
       "    <tr>\n",
       "      <th>3</th>\n",
       "      <td>14815 Waterside View Ct, Houston, TX 77044</td>\n",
       "      <td>$499,000</td>\n",
       "    </tr>\n",
       "    <tr>\n",
       "      <th>4</th>\n",
       "      <td>9400 Radio Rd, Houston, TX 77075</td>\n",
       "      <td>$450,000</td>\n",
       "    </tr>\n",
       "    <tr>\n",
       "      <th>5</th>\n",
       "      <td>15223 Lakewood Forest Dr, Houston, TX 77070</td>\n",
       "      <td>$500,000</td>\n",
       "    </tr>\n",
       "    <tr>\n",
       "      <th>6</th>\n",
       "      <td>5322 Creek Shadows Dr, Humble, TX 77339</td>\n",
       "      <td>$279,900</td>\n",
       "    </tr>\n",
       "    <tr>\n",
       "      <th>7</th>\n",
       "      <td>6111 Westover St, Houston, TX 77033</td>\n",
       "      <td>$114,900</td>\n",
       "    </tr>\n",
       "    <tr>\n",
       "      <th>8</th>\n",
       "      <td>6315 Lost Timber Ln, Houston, TX 77066</td>\n",
       "      <td>$260,000</td>\n",
       "    </tr>\n",
       "  </tbody>\n",
       "</table>\n",
       "</div>"
      ],
      "text/plain": [
       "                                           Address       Price\n",
       "0  2343 Weathersfield Trace Cir, Houston, TX 77014    $283,000\n",
       "1         1823 W Main St UNIT 4, Houston, TX 77098  $1,100,000\n",
       "2               4306 Spencer St, Houston, TX 77007    $417,000\n",
       "3       14815 Waterside View Ct, Houston, TX 77044    $499,000\n",
       "4                 9400 Radio Rd, Houston, TX 77075    $450,000\n",
       "5      15223 Lakewood Forest Dr, Houston, TX 77070    $500,000\n",
       "6          5322 Creek Shadows Dr, Humble, TX 77339    $279,900\n",
       "7              6111 Westover St, Houston, TX 77033    $114,900\n",
       "8           6315 Lost Timber Ln, Houston, TX 77066    $260,000"
      ]
     },
     "execution_count": 40,
     "metadata": {},
     "output_type": "execute_result"
    }
   ],
   "source": [
    "zillow_df = pd.DataFrame({'Address': address, 'Price': price_list})\n",
    "zillow_df"
   ]
  },
  {
   "cell_type": "code",
   "execution_count": null,
   "metadata": {},
   "outputs": [],
   "source": []
  }
 ],
 "metadata": {
  "kernelspec": {
   "display_name": "Python 3 (ipykernel)",
   "language": "python",
   "name": "python3"
  },
  "language_info": {
   "codemirror_mode": {
    "name": "ipython",
    "version": 3
   },
   "file_extension": ".py",
   "mimetype": "text/x-python",
   "name": "python",
   "nbconvert_exporter": "python",
   "pygments_lexer": "ipython3",
   "version": "3.10.11"
  }
 },
 "nbformat": 4,
 "nbformat_minor": 2
}
