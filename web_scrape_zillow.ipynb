{
 "cells": [
  {
   "cell_type": "code",
   "execution_count": 8,
   "metadata": {},
   "outputs": [],
   "source": [
    "import requests\n",
    "from bs4 import BeautifulSoup as soup\n",
    "import csv\n",
    "import pandas as pd\n",
    "\n",
    "header = {'user-agent': 'Mozilla/5.0 (Macintosh; Intel Mac OS X 10_15_7) AppleWebKit/537.36 (KHTML, like Gecko) Chrome/116.0.0.0 Safari/537.36',\n",
    "          'referer': 'https://www.zillow.com/homes/houston_rb/'\n",
    "}\n",
    "\n",
    "url = \"https://www.zillow.com/houston-tx/\"\n"
   ]
  },
  {
   "cell_type": "code",
   "execution_count": 10,
   "metadata": {},
   "outputs": [],
   "source": [
    "def scrape_page(url):\n",
    "    html = requests.get(url=url, headers=header)\n",
    "    zillow = soup(html.content, 'html.parser')\n",
    "\n",
    "    price_list = [price.text for price in zillow.find_all('div', {'class': 'StyledPropertyCardDataArea-c11n-8-84-3__sc-yipmu-0 fDSTNn'})]\n",
    "    address_list = [x.text for x in zillow.find_all('address', {'data-test': 'property-card-addr'})]\n",
    "    \n",
    "    return address_list, price_list\n",
    "\n",
    "all_price_list = []\n",
    "all_address_list = []"
   ]
  },
  {
   "cell_type": "code",
   "execution_count": 11,
   "metadata": {},
   "outputs": [
    {
     "name": "stdout",
     "output_type": "stream",
     "text": [
      "Scraping and saving complete.\n"
     ]
    }
   ],
   "source": [
    "\n",
    "for page_number in range(1, 5):  \n",
    "    page_url = f\"{url}{page_number}_p/\"\n",
    "    addresses, prices = scrape_page(page_url)\n",
    "    \n",
    "    all_address_list.extend(addresses)\n",
    "    all_price_list.extend(prices)\n",
    "\n",
    "\n",
    "zillow_df = pd.DataFrame({'Address': all_address_list, 'Price': all_price_list})\n",
    "\n",
    "\n",
    "zillow_df.to_csv('zillow_data.csv', index=False)\n",
    "\n",
    "print(\"Scraping and saving complete.\")\n"
   ]
  }
 ],
 "metadata": {
  "kernelspec": {
   "display_name": "dev",
   "language": "python",
   "name": "python3"
  },
  "language_info": {
   "codemirror_mode": {
    "name": "ipython",
    "version": 3
   },
   "file_extension": ".py",
   "mimetype": "text/x-python",
   "name": "python",
   "nbconvert_exporter": "python",
   "pygments_lexer": "ipython3",
   "version": "3.10.11"
  },
  "orig_nbformat": 4
 },
 "nbformat": 4,
 "nbformat_minor": 2
}
